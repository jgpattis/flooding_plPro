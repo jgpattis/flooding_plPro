{
 "cells": [
  {
   "cell_type": "code",
   "execution_count": 1,
   "id": "d8fed99e",
   "metadata": {},
   "outputs": [],
   "source": [
    "import mdtraj as md\n",
    "import pyemma.coordinates as coor\n",
    "import numpy as np\n",
    "import matplotlib.pyplot as plt"
   ]
  },
  {
   "cell_type": "code",
   "execution_count": 2,
   "id": "4e9eb71f",
   "metadata": {},
   "outputs": [],
   "source": [
    "gro = md.load('frame0_nw.gro')"
   ]
  },
  {
   "cell_type": "code",
   "execution_count": 3,
   "id": "a8db9c09",
   "metadata": {},
   "outputs": [],
   "source": [
    "traj = md.load('plpro_yrl_100_whole_wrap.trr', top=gro.top)"
   ]
  },
  {
   "cell_type": "code",
   "execution_count": 4,
   "id": "2145779a",
   "metadata": {},
   "outputs": [],
   "source": [
    "lig = gro.top.select('resname == yrl')\n",
    "# 89 * 20\n",
    "lig_idx = np.arange(0,1780,20)"
   ]
  },
  {
   "cell_type": "code",
   "execution_count": 5,
   "id": "2429d911",
   "metadata": {},
   "outputs": [
    {
     "data": {
      "text/plain": [
       "<mdtraj.Trajectory with 30002 frames, 6998 atoms, 673 residues, and unitcells at 0x7f306f6e5400>"
      ]
     },
     "execution_count": 5,
     "metadata": {},
     "output_type": "execute_result"
    }
   ],
   "source": [
    "traj.superpose(gro, atom_indices=gro.top.select('backbone'))"
   ]
  },
  {
   "cell_type": "code",
   "execution_count": 6,
   "id": "fe2a7e4b",
   "metadata": {},
   "outputs": [],
   "source": [
    "com_list = [0] * 89\n",
    "\n",
    "for i in range(len(lig_idx)):\n",
    "    small_traj = traj.atom_slice(lig[lig_idx[i]:lig_idx[i]+20])\n",
    "    com_list[i] = md.compute_center_of_mass(small_traj)"
   ]
  },
  {
   "cell_type": "code",
   "execution_count": 7,
   "id": "4bee9082",
   "metadata": {},
   "outputs": [],
   "source": [
    "import sklearn\n",
    "from sklearn.cluster import DBSCAN"
   ]
  },
  {
   "cell_type": "code",
   "execution_count": 8,
   "id": "6c5b2389",
   "metadata": {},
   "outputs": [],
   "source": [
    "com_cat = np.concatenate(com_list)"
   ]
  },
  {
   "cell_type": "code",
   "execution_count": 13,
   "id": "f9b1e24a",
   "metadata": {},
   "outputs": [],
   "source": [
    "cl = DBSCAN(eps=0.15, min_samples=6500).fit(com_cat)"
   ]
  },
  {
   "cell_type": "code",
   "execution_count": 14,
   "id": "c3ce25c0",
   "metadata": {},
   "outputs": [
    {
     "data": {
      "text/plain": [
       "7"
      ]
     },
     "execution_count": 14,
     "metadata": {},
     "output_type": "execute_result"
    }
   ],
   "source": [
    "len(set(cl.labels_))"
   ]
  },
  {
   "cell_type": "code",
   "execution_count": 11,
   "id": "baedcf1a",
   "metadata": {},
   "outputs": [],
   "source": [
    "def write_com_to_gro(com, file_name):\n",
    "    ''' write center of mass point to gro file to open in VMD, chimera, or similiar'''\n",
    "    with open(file_name, 'w') as f:\n",
    "        f.write('Protein in water\\n')\n",
    "        f.write(' 1\\n')\n",
    "        f.write(f'    1GLU      N    1   {np.round(com[0], 3)}   {np.round(com[1], 3)}   {np.round(com[2], 3)}\\n')\n",
    "        f.write('  11.27360  11.27360  11.27360\\n')"
   ]
  },
  {
   "cell_type": "code",
   "execution_count": 15,
   "id": "50927c0e",
   "metadata": {},
   "outputs": [
    {
     "name": "stdout",
     "output_type": "stream",
     "text": [
      "0 10171\n",
      "1 11288\n",
      "2 20168\n",
      "3 6503\n",
      "4 16673\n",
      "5 28942\n"
     ]
    }
   ],
   "source": [
    "cluster_list = []\n",
    "avg_list = []\n",
    "\n",
    "for i in set(cl.labels_):\n",
    "    if i == -1:\n",
    "        continue\n",
    "    cluster_list.append(com_cat[cl.labels_ == i])\n",
    "    print(i, cluster_list[i].shape[0])\n",
    "    avg_list.append(cluster_list[i].mean(axis=0))"
   ]
  },
  {
   "cell_type": "code",
   "execution_count": 16,
   "id": "55f56863",
   "metadata": {},
   "outputs": [],
   "source": [
    "for i in range(6):\n",
    "    write_com_to_gro(avg_list[i], f'cluster/7ofu_50mm_cluster{i}.gro')"
   ]
  },
  {
   "cell_type": "code",
   "execution_count": 17,
   "id": "0c2dd611",
   "metadata": {},
   "outputs": [],
   "source": [
    "crystal = md.load('../../true_7ofs.gro')"
   ]
  },
  {
   "cell_type": "code",
   "execution_count": 22,
   "id": "6b2025f7",
   "metadata": {},
   "outputs": [],
   "source": [
    "cry_idx = crystal.top.select('resname == yrl')\n",
    "lig_rmsds = [0] * 89"
   ]
  },
  {
   "cell_type": "code",
   "execution_count": 20,
   "id": "ec09e6e9",
   "metadata": {},
   "outputs": [],
   "source": [
    "def manual_rmsd(a,b):\n",
    "    result = np.ndarray((a.shape[0],1), dtype='float32')\n",
    "    N = b.shape[1]\n",
    "    for i in range(a.shape[0]):\n",
    "        result[i] = np.sqrt(np.sum((a[i] - b[0]) ** 2) / N)\n",
    "    return result\n",
    "\n",
    "def ex_rmsd(traj, ref, ref_frame=0, atom_indices_traj=None, atom_indices_ref=None, alignment_indices=None):\n",
    "    'align to protein then take rmsd of ligand'\n",
    "    traj.superpose(ref, frame=ref_frame, atom_indices=alignment_indices, parallel=True)\n",
    "    small_traj = traj.atom_slice(atom_indices_traj)\n",
    "    small_ref = ref.atom_slice(atom_indices_ref)\n",
    "    f = manual_rmsd(small_traj.xyz, small_ref.xyz)\n",
    "    return f"
   ]
  },
  {
   "cell_type": "code",
   "execution_count": 23,
   "id": "fe001686",
   "metadata": {},
   "outputs": [],
   "source": [
    "for i in range(len(lig_idx)):\n",
    "    lig_rmsds[i] = ex_rmsd(traj, crystal, atom_indices_traj=lig[lig_idx[i]:lig_idx[i]+20], atom_indices_ref=cry_idx, alignment_indices=gro.top.select('backbone'))"
   ]
  },
  {
   "cell_type": "code",
   "execution_count": 24,
   "id": "da8facd8",
   "metadata": {},
   "outputs": [],
   "source": [
    "time = np.arange(0, 300.02, 0.01)"
   ]
  },
  {
   "cell_type": "code",
   "execution_count": 25,
   "id": "e1d5caf1",
   "metadata": {},
   "outputs": [],
   "source": [
    "under_5_list = [0] * 89\n",
    "for i in range(len(lig_rmsds)):\n",
    "    under_5_list[i] = (lig_rmsds[i] < 0.5).sum()"
   ]
  },
  {
   "cell_type": "code",
   "execution_count": 26,
   "id": "0c82f0ae",
   "metadata": {},
   "outputs": [
    {
     "name": "stdout",
     "output_type": "stream",
     "text": [
      "0 0\n",
      "1 0\n",
      "2 0\n",
      "3 0\n",
      "4 0\n",
      "5 0\n",
      "6 0\n",
      "7 0\n",
      "8 0\n",
      "9 0\n",
      "10 0\n",
      "11 0\n",
      "12 0\n",
      "13 0\n",
      "14 0\n",
      "15 0\n",
      "16 0\n",
      "17 0\n",
      "18 0\n",
      "19 0\n",
      "20 0\n",
      "21 0\n",
      "22 0\n",
      "23 0\n",
      "24 0\n",
      "25 0\n",
      "26 0\n",
      "27 0\n",
      "28 0\n",
      "29 0\n",
      "30 0\n",
      "31 0\n",
      "32 0\n",
      "33 0\n",
      "34 0\n",
      "35 0\n",
      "36 0\n",
      "37 0\n",
      "38 0\n",
      "39 0\n",
      "40 0\n",
      "41 0\n",
      "42 0\n",
      "43 0\n",
      "44 0\n",
      "45 0\n",
      "46 0\n",
      "47 0\n",
      "48 0\n",
      "49 0\n",
      "50 0\n",
      "51 0\n",
      "52 0\n",
      "53 0\n",
      "54 0\n",
      "55 0\n",
      "56 0\n",
      "57 0\n",
      "58 0\n",
      "59 0\n",
      "60 0\n",
      "61 0\n",
      "62 0\n",
      "63 0\n",
      "64 0\n",
      "65 0\n",
      "66 0\n",
      "67 0\n",
      "68 0\n",
      "69 0\n",
      "70 0\n",
      "71 0\n",
      "72 0\n",
      "73 0\n",
      "74 0\n",
      "75 0\n",
      "76 0\n",
      "77 0\n",
      "78 2192\n",
      "79 0\n",
      "80 0\n",
      "81 0\n",
      "82 0\n",
      "83 0\n",
      "84 0\n",
      "85 0\n",
      "86 0\n",
      "87 0\n",
      "88 0\n"
     ]
    }
   ],
   "source": [
    "for i in range(len(under_5_list)):\n",
    "    print(i, under_5_list[i])"
   ]
  },
  {
   "cell_type": "code",
   "execution_count": 27,
   "id": "6afc87c5",
   "metadata": {},
   "outputs": [
    {
     "data": {
      "text/plain": [
       "Text(0, 0.5, 'Ligand RMSD (nm)')"
      ]
     },
     "execution_count": 27,
     "metadata": {},
     "output_type": "execute_result"
    },
    {
     "data": {
      "image/png": "[encoded data removed]",
      "text/plain": [
       "<Figure size 432x288 with 1 Axes>"
      ]
     },
     "metadata": {
      "needs_background": "light"
     },
     "output_type": "display_data"
    }
   ],
   "source": [
    "plt.plot(time, lig_rmsds[78])\n",
    "plt.xlabel('Time (ns)', fontsize=16)\n",
    "plt.ylabel('Ligand RMSD (nm)', fontsize=16)"
   ]
  },
  {
   "cell_type": "code",
   "execution_count": 30,
   "id": "f73968c7",
   "metadata": {},
   "outputs": [],
   "source": [
    "np.save('lowest_lig_rmsd.npy', lig_rmsds[78])"
   ]
  },
  {
   "cell_type": "code",
   "execution_count": 31,
   "id": "889cdf36",
   "metadata": {},
   "outputs": [
    {
     "data": {
      "text/plain": [
       "0.3157896"
      ]
     },
     "execution_count": 31,
     "metadata": {},
     "output_type": "execute_result"
    }
   ],
   "source": [
    "lig_rmsds[78].min()"
   ]
  },
  {
   "cell_type": "code",
   "execution_count": 29,
   "id": "2bc42594",
   "metadata": {},
   "outputs": [
    {
     "data": {
      "text/plain": [
       "array([[5.743872  ],\n",
       "       [5.7438054 ],\n",
       "       [5.6937537 ],\n",
       "       ...,\n",
       "       [0.5406036 ],\n",
       "       [0.5675859 ],\n",
       "       [0.63930875]], dtype=float32)"
      ]
     },
     "execution_count": 29,
     "metadata": {},
     "output_type": "execute_result"
    }
   ],
   "source": [
    "lig_rmsds[78]"
   ]
  },
  {
   "cell_type": "code",
   "execution_count": 7,
   "id": "fa54191c",
   "metadata": {},
   "outputs": [],
   "source": [
    "# contact analysis"
   ]
  },
  {
   "cell_type": "code",
   "execution_count": 11,
   "id": "9f530936",
   "metadata": {},
   "outputs": [],
   "source": [
    "sites = 6\n",
    "site_list = [md.load(f'cluster/7ofu_50mm_cluster{i}.gro') for i in range(sites)]"
   ]
  },
  {
   "cell_type": "code",
   "execution_count": 12,
   "id": "1fcb28be",
   "metadata": {},
   "outputs": [],
   "source": [
    "def calc_eu_dist(a,b):\n",
    "    '''calculate the euclidean distance between two cartesian coordinate points'''\n",
    "    dist = np.sqrt(np.sum((a - b) ** 2))\n",
    "    return dist"
   ]
  },
  {
   "cell_type": "code",
   "execution_count": 13,
   "id": "bc3221b1",
   "metadata": {},
   "outputs": [],
   "source": [
    "def slice_spots(traj, sites, com_list, site_list, gro, lig, lig_idx, lig_atoms=20):\n",
    "    '''takes trajectoy and retures seperate trajectories where ligands are in spots'''\n",
    "    out_list3 = [0] * sites\n",
    "\n",
    "    for i in range(sites):\n",
    "        counter = 0\n",
    "        for j in range(len(com_list)):\n",
    "            #for k in range(traj.n_frames):\n",
    "            d = [calc_eu_dist(l, site_list[i].xyz[0][0]) for l in com_list[j]]\n",
    "            b = np.array(d)\n",
    "            idx = np.where(b < 0.15)[0]\n",
    "            if counter == 0:\n",
    "                temp = traj[idx]\n",
    "                temp2 = temp.atom_slice(np.concatenate((gro.top.select('protein'), lig[lig_idx[j]:lig_idx[j]+lig_atoms])))\n",
    "                out_list3[i] = temp2\n",
    "                counter = 1\n",
    "            else:\n",
    "                temp = traj[idx]                      \n",
    "                temp2 = temp.atom_slice(np.concatenate((gro.top.select('protein'), lig[lig_idx[j]:lig_idx[j]+lig_atoms])))\n",
    "                out_list3[i] = out_list3[i].join(temp2)\n",
    "                \n",
    "    return out_list3"
   ]
  },
  {
   "cell_type": "code",
   "execution_count": 14,
   "id": "caa027b5",
   "metadata": {},
   "outputs": [],
   "source": [
    "out_list = slice_spots(traj, sites, com_list, site_list, gro, lig, lig_idx, lig_atoms=20)"
   ]
  },
  {
   "cell_type": "code",
   "execution_count": 15,
   "id": "909ee318",
   "metadata": {},
   "outputs": [],
   "source": [
    "out_list[0].save('sitetraj_cl0_A_s7.xtc')"
   ]
  },
  {
   "cell_type": "code",
   "execution_count": 16,
   "id": "316ea7cb",
   "metadata": {},
   "outputs": [],
   "source": [
    "out_list[1].save('sitetraj_cl1_B_s4.xtc')"
   ]
  },
  {
   "cell_type": "code",
   "execution_count": 17,
   "id": "19ab4350",
   "metadata": {},
   "outputs": [],
   "source": [
    "out_list[2].save('sitetraj_cl2_C_s12.xtc')"
   ]
  },
  {
   "cell_type": "code",
   "execution_count": 18,
   "id": "4625247e",
   "metadata": {},
   "outputs": [],
   "source": [
    "out_list[3].save('sitetraj_cl3_D_s1.xtc')"
   ]
  },
  {
   "cell_type": "code",
   "execution_count": 19,
   "id": "d832b0be",
   "metadata": {},
   "outputs": [],
   "source": [
    "out_list[4].save('sitetraj_cl4_E_s5.xtc')"
   ]
  },
  {
   "cell_type": "code",
   "execution_count": 20,
   "id": "e845ec1a",
   "metadata": {},
   "outputs": [],
   "source": [
    "out_list[5].save('sitetraj_cl5_F_s11.xtc')"
   ]
  },
  {
   "cell_type": "code",
   "execution_count": 24,
   "id": "d4e5d07c",
   "metadata": {},
   "outputs": [],
   "source": [
    "start = out_list[0][0]"
   ]
  },
  {
   "cell_type": "code",
   "execution_count": 25,
   "id": "7483e27c",
   "metadata": {},
   "outputs": [],
   "source": [
    "new_lig = start.top.select('resname == yrl and not name H')"
   ]
  },
  {
   "cell_type": "code",
   "execution_count": 26,
   "id": "53572971",
   "metadata": {},
   "outputs": [],
   "source": [
    "res = np.zeros((315,2))\n",
    "for i in range(315):\n",
    "    res[i,0] = i\n",
    "for i in range(315):\n",
    "    res[i,1] = 315"
   ]
  },
  {
   "cell_type": "code",
   "execution_count": 27,
   "id": "849a27f1",
   "metadata": {},
   "outputs": [],
   "source": [
    "def average_contacts(gro, traj_name, threshold):\n",
    "    feat = coor.featurizer(gro)\n",
    "    feat.add_residue_mindist(residue_pairs=res, threshold=threshold)\n",
    "    min_dis = coor.load(traj_name, features=feat)\n",
    "    mean = np.mean(min_dis.sum(axis=1))\n",
    "    return mean"
   ]
  },
  {
   "cell_type": "code",
   "execution_count": 28,
   "id": "bc691fce",
   "metadata": {},
   "outputs": [
    {
     "data": {
      "text/plain": [
       "1.2263739"
      ]
     },
     "execution_count": 28,
     "metadata": {},
     "output_type": "execute_result"
    }
   ],
   "source": [
    "average_contacts(start, 'sitetraj_cl0_A_s7.xtc', 0.35)"
   ]
  },
  {
   "cell_type": "code",
   "execution_count": 29,
   "id": "1f15c91b",
   "metadata": {},
   "outputs": [
    {
     "data": {
      "text/plain": [
       "3.5407095"
      ]
     },
     "execution_count": 29,
     "metadata": {},
     "output_type": "execute_result"
    }
   ],
   "source": [
    "average_contacts(start, 'sitetraj_cl0_A_s7.xtc', 0.4)"
   ]
  },
  {
   "cell_type": "code",
   "execution_count": 30,
   "id": "f5b2dda5",
   "metadata": {},
   "outputs": [
    {
     "data": {
      "text/plain": [
       "2.414498"
      ]
     },
     "execution_count": 30,
     "metadata": {},
     "output_type": "execute_result"
    }
   ],
   "source": [
    "average_contacts(start, 'sitetraj_cl1_B_s4.xtc', 0.35)"
   ]
  },
  {
   "cell_type": "code",
   "execution_count": 31,
   "id": "dd1f6fb4",
   "metadata": {},
   "outputs": [
    {
     "data": {
      "text/plain": [
       "6.0092936"
      ]
     },
     "execution_count": 31,
     "metadata": {},
     "output_type": "execute_result"
    }
   ],
   "source": [
    "average_contacts(start, 'sitetraj_cl1_B_s4.xtc', 0.4)"
   ]
  },
  {
   "cell_type": "code",
   "execution_count": 32,
   "id": "2d18945a",
   "metadata": {},
   "outputs": [
    {
     "data": {
      "text/plain": [
       "2.9207678"
      ]
     },
     "execution_count": 32,
     "metadata": {},
     "output_type": "execute_result"
    }
   ],
   "source": [
    "average_contacts(start, 'sitetraj_cl2_C_s12.xtc', 0.35)"
   ]
  },
  {
   "cell_type": "code",
   "execution_count": 33,
   "id": "2802c141",
   "metadata": {},
   "outputs": [
    {
     "data": {
      "text/plain": [
       "5.8526115"
      ]
     },
     "execution_count": 33,
     "metadata": {},
     "output_type": "execute_result"
    }
   ],
   "source": [
    "average_contacts(start, 'sitetraj_cl2_C_s12.xtc', 0.4)"
   ]
  },
  {
   "cell_type": "code",
   "execution_count": 34,
   "id": "9e76ea1d",
   "metadata": {},
   "outputs": [
    {
     "data": {
      "text/plain": [
       "3.5418994"
      ]
     },
     "execution_count": 34,
     "metadata": {},
     "output_type": "execute_result"
    }
   ],
   "source": [
    "average_contacts(start, 'sitetraj_cl3_D_s1.xtc', 0.35)"
   ]
  },
  {
   "cell_type": "code",
   "execution_count": 35,
   "id": "f373321b",
   "metadata": {},
   "outputs": [
    {
     "data": {
      "text/plain": [
       "7.3100557"
      ]
     },
     "execution_count": 35,
     "metadata": {},
     "output_type": "execute_result"
    }
   ],
   "source": [
    "average_contacts(start, 'sitetraj_cl3_D_s1.xtc', 0.4)"
   ]
  },
  {
   "cell_type": "code",
   "execution_count": 36,
   "id": "29c46030",
   "metadata": {},
   "outputs": [
    {
     "data": {
      "text/plain": [
       "3.8864827"
      ]
     },
     "execution_count": 36,
     "metadata": {},
     "output_type": "execute_result"
    }
   ],
   "source": [
    "average_contacts(start, 'sitetraj_cl4_E_s5.xtc', 0.35)"
   ]
  },
  {
   "cell_type": "code",
   "execution_count": 37,
   "id": "b4293e29",
   "metadata": {},
   "outputs": [
    {
     "data": {
      "text/plain": [
       "7.551172"
      ]
     },
     "execution_count": 37,
     "metadata": {},
     "output_type": "execute_result"
    }
   ],
   "source": [
    "average_contacts(start, 'sitetraj_cl4_E_s5.xtc', 0.4)"
   ]
  },
  {
   "cell_type": "code",
   "execution_count": 38,
   "id": "677cd2b2",
   "metadata": {},
   "outputs": [
    {
     "data": {
      "text/plain": [
       "4.496356"
      ]
     },
     "execution_count": 38,
     "metadata": {},
     "output_type": "execute_result"
    }
   ],
   "source": [
    "average_contacts(start, 'sitetraj_cl5_F_s11.xtc', 0.35)"
   ]
  },
  {
   "cell_type": "code",
   "execution_count": 39,
   "id": "d6d4fb75",
   "metadata": {},
   "outputs": [
    {
     "data": {
      "text/plain": [
       "8.743894"
      ]
     },
     "execution_count": 39,
     "metadata": {},
     "output_type": "execute_result"
    }
   ],
   "source": [
    "average_contacts(start, 'sitetraj_cl5_F_s11.xtc', 0.4)"
   ]
  },
  {
   "cell_type": "code",
   "execution_count": null,
   "id": "7fb737a0",
   "metadata": {},
   "outputs": [],
   "source": []
  }
 ],
 "metadata": {
  "kernelspec": {
   "display_name": "Python 3 (ipykernel)",
   "language": "python",
   "name": "python3"
  },
  "language_info": {
   "codemirror_mode": {
    "name": "ipython",
    "version": 3
   },
   "file_extension": ".py",
   "mimetype": "text/x-python",
   "name": "python",
   "nbconvert_exporter": "python",
   "pygments_lexer": "ipython3",
   "version": "3.8.8"
  }
 },
 "nbformat": 4,
 "nbformat_minor": 5
}
