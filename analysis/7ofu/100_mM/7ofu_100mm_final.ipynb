{
 "cells": [
  {
   "cell_type": "code",
   "execution_count": 1,
   "id": "cf8f7c76",
   "metadata": {},
   "outputs": [],
   "source": [
    "import mdtraj as md\n",
    "import pyemma.coordinates as coor\n",
    "import numpy as np\n",
    "import matplotlib.pyplot as plt"
   ]
  },
  {
   "cell_type": "code",
   "execution_count": 2,
   "id": "5db40569",
   "metadata": {},
   "outputs": [],
   "source": [
    "gro = md.load('frame0_nw.gro')"
   ]
  },
  {
   "cell_type": "code",
   "execution_count": 3,
   "id": "0032865f",
   "metadata": {},
   "outputs": [],
   "source": [
    "traj = md.load('7ofu_100mm_whole_wrap.trr', top=gro.top)"
   ]
  },
  {
   "cell_type": "code",
   "execution_count": 4,
   "id": "9a614a46",
   "metadata": {},
   "outputs": [],
   "source": [
    "lig = gro.top.select('resname == he9')\n",
    "# 86 * 20\n",
    "lig_idx = np.arange(0,1720,20)"
   ]
  },
  {
   "cell_type": "code",
   "execution_count": 5,
   "id": "f735ab6e",
   "metadata": {},
   "outputs": [
    {
     "data": {
      "text/plain": [
       "<mdtraj.Trajectory with 30002 frames, 6930 atoms, 662 residues, and unitcells at 0x7fcc29469220>"
      ]
     },
     "execution_count": 5,
     "metadata": {},
     "output_type": "execute_result"
    }
   ],
   "source": [
    "traj.superpose(gro, atom_indices=gro.top.select('backbone'))"
   ]
  },
  {
   "cell_type": "code",
   "execution_count": 6,
   "id": "be4c9a90",
   "metadata": {},
   "outputs": [],
   "source": [
    "com_list = [0] * 86\n",
    "\n",
    "for i in range(len(lig_idx)):\n",
    "    small_traj = traj.atom_slice(lig[lig_idx[i]:lig_idx[i]+20])\n",
    "    com_list[i] = md.compute_center_of_mass(small_traj)"
   ]
  },
  {
   "cell_type": "code",
   "execution_count": 13,
   "id": "11c2a44b",
   "metadata": {},
   "outputs": [],
   "source": [
    "import sklearn\n",
    "from sklearn.cluster import DBSCAN"
   ]
  },
  {
   "cell_type": "code",
   "execution_count": 14,
   "id": "e06adbfb",
   "metadata": {},
   "outputs": [],
   "source": [
    "com_cat = np.concatenate(com_list)"
   ]
  },
  {
   "cell_type": "code",
   "execution_count": 15,
   "id": "02ad2f82",
   "metadata": {},
   "outputs": [],
   "source": [
    "cl = DBSCAN(eps=0.15, min_samples=6500).fit(com_cat)"
   ]
  },
  {
   "cell_type": "code",
   "execution_count": 16,
   "id": "28d7d795",
   "metadata": {},
   "outputs": [
    {
     "data": {
      "text/plain": [
       "3"
      ]
     },
     "execution_count": 16,
     "metadata": {},
     "output_type": "execute_result"
    }
   ],
   "source": [
    "len(set(cl.labels_))"
   ]
  },
  {
   "cell_type": "code",
   "execution_count": 17,
   "id": "0a01211d",
   "metadata": {},
   "outputs": [],
   "source": [
    "def write_com_to_gro(com, file_name):\n",
    "    ''' write center of mass point to gro file to open in VMD, chimera, or similiar'''\n",
    "    with open(file_name, 'w') as f:\n",
    "        f.write('Protein in water\\n')\n",
    "        f.write(' 1\\n')\n",
    "        f.write(f'    1GLU      N    1   {np.round(com[0], 3)}   {np.round(com[1], 3)}   {np.round(com[2], 3)}\\n')\n",
    "        f.write('  11.27360  11.27360  11.27360\\n')"
   ]
  },
  {
   "cell_type": "code",
   "execution_count": 18,
   "id": "b95d1b66",
   "metadata": {},
   "outputs": [
    {
     "name": "stdout",
     "output_type": "stream",
     "text": [
      "0 24063\n",
      "1 25377\n"
     ]
    }
   ],
   "source": [
    "cluster_list = []\n",
    "avg_list = []\n",
    "\n",
    "for i in set(cl.labels_):\n",
    "    if i == -1:\n",
    "        continue\n",
    "    cluster_list.append(com_cat[cl.labels_ == i])\n",
    "    print(i, cluster_list[i].shape[0])\n",
    "    avg_list.append(cluster_list[i].mean(axis=0))"
   ]
  },
  {
   "cell_type": "code",
   "execution_count": 20,
   "id": "d0ecbd8d",
   "metadata": {},
   "outputs": [],
   "source": [
    "for i in range(2):\n",
    "    write_com_to_gro(avg_list[i], f'cluster/7ofu_100mm_cluster{i}.gro')"
   ]
  },
  {
   "cell_type": "code",
   "execution_count": 21,
   "id": "0bb8f5c8",
   "metadata": {},
   "outputs": [],
   "source": [
    "crystal = md.load('../../true_7ofu.pdb')"
   ]
  },
  {
   "cell_type": "code",
   "execution_count": 33,
   "id": "48b4dcb8",
   "metadata": {},
   "outputs": [],
   "source": [
    "cry_idx = crystal.top.select('resname == he9')\n",
    "lig_rmsds = [0] * 86"
   ]
  },
  {
   "cell_type": "code",
   "execution_count": 23,
   "id": "b4086ce0",
   "metadata": {},
   "outputs": [],
   "source": [
    "def manual_rmsd(a,b):\n",
    "    result = np.ndarray((a.shape[0],1), dtype='float32')\n",
    "    N = b.shape[1]\n",
    "    for i in range(a.shape[0]):\n",
    "        result[i] = np.sqrt(np.sum((a[i] - b[0]) ** 2) / N)\n",
    "    return result\n",
    "\n",
    "def ex_rmsd(traj, ref, ref_frame=0, atom_indices_traj=None, atom_indices_ref=None, alignment_indices=None):\n",
    "    'align to protein then take rmsd of ligand'\n",
    "    traj.superpose(ref, frame=ref_frame, atom_indices=alignment_indices, parallel=True)\n",
    "    small_traj = traj.atom_slice(atom_indices_traj)\n",
    "    small_ref = ref.atom_slice(atom_indices_ref)\n",
    "    f = manual_rmsd(small_traj.xyz, small_ref.xyz)\n",
    "    return f"
   ]
  },
  {
   "cell_type": "code",
   "execution_count": 34,
   "id": "aedb4c04",
   "metadata": {},
   "outputs": [],
   "source": [
    "for i in range(len(lig_idx)):\n",
    "    lig_rmsds[i] = ex_rmsd(traj, crystal, atom_indices_traj=lig[lig_idx[i]:lig_idx[i]+20], atom_indices_ref=cry_idx, alignment_indices=gro.top.select('backbone'))"
   ]
  },
  {
   "cell_type": "code",
   "execution_count": 35,
   "id": "3f81e35b",
   "metadata": {},
   "outputs": [],
   "source": [
    "time = np.arange(0, 300.02, 0.01)"
   ]
  },
  {
   "cell_type": "code",
   "execution_count": 36,
   "id": "a8de9815",
   "metadata": {},
   "outputs": [],
   "source": [
    "under_5_list = [0] * 89\n",
    "for i in range(len(lig_rmsds)):\n",
    "    under_5_list[i] = (lig_rmsds[i] < 0.5).sum()"
   ]
  },
  {
   "cell_type": "code",
   "execution_count": 37,
   "id": "c9668fc0",
   "metadata": {},
   "outputs": [
    {
     "name": "stdout",
     "output_type": "stream",
     "text": [
      "0 168\n",
      "1 0\n",
      "2 0\n",
      "3 0\n",
      "4 1\n",
      "5 0\n",
      "6 0\n",
      "7 0\n",
      "8 13\n",
      "9 0\n",
      "10 0\n",
      "11 0\n",
      "12 0\n",
      "13 0\n",
      "14 8\n",
      "15 0\n",
      "16 0\n",
      "17 7\n",
      "18 1\n",
      "19 0\n",
      "20 109\n",
      "21 0\n",
      "22 0\n",
      "23 0\n",
      "24 0\n",
      "25 0\n",
      "26 0\n",
      "27 0\n",
      "28 0\n",
      "29 37\n",
      "30 0\n",
      "31 0\n",
      "32 0\n",
      "33 0\n",
      "34 12\n",
      "35 0\n",
      "36 2\n",
      "37 8\n",
      "38 0\n",
      "39 51\n",
      "40 0\n",
      "41 12\n",
      "42 21\n",
      "43 0\n",
      "44 0\n",
      "45 0\n",
      "46 132\n",
      "47 0\n",
      "48 0\n",
      "49 0\n",
      "50 7\n",
      "51 0\n",
      "52 0\n",
      "53 132\n",
      "54 0\n",
      "55 9\n",
      "56 72\n",
      "57 94\n",
      "58 1\n",
      "59 0\n",
      "60 0\n",
      "61 0\n",
      "62 30\n",
      "63 1\n",
      "64 26\n",
      "65 0\n",
      "66 0\n",
      "67 334\n",
      "68 0\n",
      "69 0\n",
      "70 11\n",
      "71 0\n",
      "72 32\n",
      "73 0\n",
      "74 103\n",
      "75 0\n",
      "76 2\n",
      "77 0\n",
      "78 1\n",
      "79 8\n",
      "80 0\n",
      "81 0\n",
      "82 0\n",
      "83 31\n",
      "84 24\n",
      "85 0\n",
      "86 0\n",
      "87 0\n",
      "88 0\n"
     ]
    }
   ],
   "source": [
    "for i in range(len(under_5_list)):\n",
    "    print(i, under_5_list[i])"
   ]
  },
  {
   "cell_type": "code",
   "execution_count": 38,
   "id": "f151c2f8",
   "metadata": {},
   "outputs": [
    {
     "data": {
      "text/plain": [
       "Text(0, 0.5, 'Ligand RMSD (nm)')"
      ]
     },
     "execution_count": 38,
     "metadata": {},
     "output_type": "execute_result"
    },
    {
     "data": {
      "image/png": "[encoded data removed]",
      "text/plain": [
       "<Figure size 432x288 with 1 Axes>"
      ]
     },
     "metadata": {
      "needs_background": "light"
     },
     "output_type": "display_data"
    }
   ],
   "source": [
    "plt.plot(time, lig_rmsds[67])\n",
    "plt.xlabel('Time (ns)', fontsize=16)\n",
    "plt.ylabel('Ligand RMSD (nm)', fontsize=16)"
   ]
  },
  {
   "cell_type": "code",
   "execution_count": 39,
   "id": "a522e43d",
   "metadata": {},
   "outputs": [],
   "source": [
    "np.save('lowest_lig_rmsd.npy', lig_rmsds[67])"
   ]
  },
  {
   "cell_type": "code",
   "execution_count": 7,
   "id": "52e504d7",
   "metadata": {},
   "outputs": [],
   "source": [
    "# contact analysis"
   ]
  },
  {
   "cell_type": "code",
   "execution_count": 8,
   "id": "e6b3a167",
   "metadata": {},
   "outputs": [],
   "source": [
    "sites = 2\n",
    "site_list = [md.load(f'cluster/7ofu_100mm_cluster{i}.gro') for i in range(sites)]"
   ]
  },
  {
   "cell_type": "code",
   "execution_count": 9,
   "id": "a428f628",
   "metadata": {},
   "outputs": [],
   "source": [
    "def calc_eu_dist(a,b):\n",
    "    '''calculate the euclidean distance between two cartesian coordinate points'''\n",
    "    dist = np.sqrt(np.sum((a - b) ** 2))\n",
    "    return dist"
   ]
  },
  {
   "cell_type": "code",
   "execution_count": 10,
   "id": "6f4c6cac",
   "metadata": {},
   "outputs": [],
   "source": [
    "def slice_spots(traj, sites, com_list, site_list, gro, lig, lig_idx, lig_atoms=20):\n",
    "    '''takes trajectoy and retures seperate trajectories where ligands are in spots'''\n",
    "    out_list3 = [0] * sites\n",
    "\n",
    "    for i in range(sites):\n",
    "        counter = 0\n",
    "        for j in range(len(com_list)):\n",
    "            #for k in range(traj.n_frames):\n",
    "            d = [calc_eu_dist(l, site_list[i].xyz[0][0]) for l in com_list[j]]\n",
    "            b = np.array(d)\n",
    "            idx = np.where(b < 0.15)[0]\n",
    "            if counter == 0:\n",
    "                temp = traj[idx]\n",
    "                temp2 = temp.atom_slice(np.concatenate((gro.top.select('protein'), lig[lig_idx[j]:lig_idx[j]+lig_atoms])))\n",
    "                out_list3[i] = temp2\n",
    "                counter = 1\n",
    "            else:\n",
    "                temp = traj[idx]                      \n",
    "                temp2 = temp.atom_slice(np.concatenate((gro.top.select('protein'), lig[lig_idx[j]:lig_idx[j]+lig_atoms])))\n",
    "                out_list3[i] = out_list3[i].join(temp2)\n",
    "                \n",
    "    return out_list3"
   ]
  },
  {
   "cell_type": "code",
   "execution_count": 11,
   "id": "97131297",
   "metadata": {},
   "outputs": [],
   "source": [
    "out_list = slice_spots(traj, sites, com_list, site_list, gro, lig, lig_idx, lig_atoms=20)"
   ]
  },
  {
   "cell_type": "code",
   "execution_count": 12,
   "id": "3078395a",
   "metadata": {},
   "outputs": [],
   "source": [
    "out_list[0].save('sitetraj_cl0_H_s3.xtc')"
   ]
  },
  {
   "cell_type": "code",
   "execution_count": 13,
   "id": "a7c6ad5d",
   "metadata": {},
   "outputs": [],
   "source": [
    "out_list[1].save('sitetraj_cl1_F_s11.xtc')"
   ]
  },
  {
   "cell_type": "code",
   "execution_count": 14,
   "id": "e9b95353",
   "metadata": {},
   "outputs": [],
   "source": [
    "start = out_list[0][0]"
   ]
  },
  {
   "cell_type": "code",
   "execution_count": 15,
   "id": "714dc843",
   "metadata": {},
   "outputs": [],
   "source": [
    "new_lig = start.top.select('resname == yrl and not name H')"
   ]
  },
  {
   "cell_type": "code",
   "execution_count": 16,
   "id": "0a38ccb4",
   "metadata": {},
   "outputs": [],
   "source": [
    "res = np.zeros((315,2))\n",
    "for i in range(315):\n",
    "    res[i,0] = i\n",
    "for i in range(315):\n",
    "    res[i,1] = 315"
   ]
  },
  {
   "cell_type": "code",
   "execution_count": 17,
   "id": "31fb318c",
   "metadata": {},
   "outputs": [],
   "source": [
    "def average_contacts(gro, traj_name, threshold):\n",
    "    feat = coor.featurizer(gro)\n",
    "    feat.add_residue_mindist(residue_pairs=res, threshold=threshold)\n",
    "    min_dis = coor.load(traj_name, features=feat)\n",
    "    mean = np.mean(min_dis.sum(axis=1))\n",
    "    return mean"
   ]
  },
  {
   "cell_type": "code",
   "execution_count": 18,
   "id": "9749606e",
   "metadata": {},
   "outputs": [
    {
     "data": {
      "text/plain": [
       "2.185519"
      ]
     },
     "execution_count": 18,
     "metadata": {},
     "output_type": "execute_result"
    }
   ],
   "source": [
    "average_contacts(start, 'sitetraj_cl0_H_s3.xtc', 0.35)"
   ]
  },
  {
   "cell_type": "code",
   "execution_count": 19,
   "id": "0491644e",
   "metadata": {},
   "outputs": [
    {
     "data": {
      "text/plain": [
       "5.2334785"
      ]
     },
     "execution_count": 19,
     "metadata": {},
     "output_type": "execute_result"
    }
   ],
   "source": [
    "average_contacts(start, 'sitetraj_cl0_H_s3.xtc', 0.4)"
   ]
  },
  {
   "cell_type": "code",
   "execution_count": 20,
   "id": "7b3ad712",
   "metadata": {},
   "outputs": [
    {
     "data": {
      "text/plain": [
       "3.583067"
      ]
     },
     "execution_count": 20,
     "metadata": {},
     "output_type": "execute_result"
    }
   ],
   "source": [
    "average_contacts(start, 'sitetraj_cl1_F_s11.xtc', 0.35)"
   ]
  },
  {
   "cell_type": "code",
   "execution_count": 21,
   "id": "67793587",
   "metadata": {},
   "outputs": [
    {
     "data": {
      "text/plain": [
       "8.304616"
      ]
     },
     "execution_count": 21,
     "metadata": {},
     "output_type": "execute_result"
    }
   ],
   "source": [
    "average_contacts(start, 'sitetraj_cl1_F_s11.xtc', 0.4)"
   ]
  },
  {
   "cell_type": "code",
   "execution_count": null,
   "id": "c84d9caa",
   "metadata": {},
   "outputs": [],
   "source": []
  }
 ],
 "metadata": {
  "kernelspec": {
   "display_name": "Python 3 (ipykernel)",
   "language": "python",
   "name": "python3"
  },
  "language_info": {
   "codemirror_mode": {
    "name": "ipython",
    "version": 3
   },
   "file_extension": ".py",
   "mimetype": "text/x-python",
   "name": "python",
   "nbconvert_exporter": "python",
   "pygments_lexer": "ipython3",
   "version": "3.8.8"
  }
 },
 "nbformat": 4,
 "nbformat_minor": 5
}
