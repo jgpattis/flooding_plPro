{
 "cells": [
  {
   "cell_type": "code",
   "execution_count": 1,
   "id": "38c4fd1e",
   "metadata": {},
   "outputs": [],
   "source": [
    "import mdtraj as md\n",
    "import pyemma.coordinates as coor\n",
    "import numpy as np\n",
    "import matplotlib.pyplot as plt"
   ]
  },
  {
   "cell_type": "code",
   "execution_count": 2,
   "id": "45ac1515",
   "metadata": {},
   "outputs": [],
   "source": [
    "gro = md.load('frame0_nw.gro')"
   ]
  },
  {
   "cell_type": "code",
   "execution_count": 3,
   "id": "ab7b7cf1",
   "metadata": {},
   "outputs": [],
   "source": [
    "traj = md.load('7ofu_50mm_whole_wrap.trr', top=gro.top)"
   ]
  },
  {
   "cell_type": "code",
   "execution_count": 4,
   "id": "d9280e90",
   "metadata": {},
   "outputs": [],
   "source": [
    "lig = gro.top.select('resname == he9')\n",
    "# 43 * 20\n",
    "lig_idx = np.arange(0,860,20)"
   ]
  },
  {
   "cell_type": "code",
   "execution_count": 5,
   "id": "2efa2d0d",
   "metadata": {},
   "outputs": [
    {
     "data": {
      "text/plain": [
       "<mdtraj.Trajectory with 30002 frames, 6070 atoms, 619 residues, and unitcells at 0x7f4d6631ee20>"
      ]
     },
     "execution_count": 5,
     "metadata": {},
     "output_type": "execute_result"
    }
   ],
   "source": [
    "traj.superpose(gro, atom_indices=gro.top.select('backbone'))"
   ]
  },
  {
   "cell_type": "code",
   "execution_count": 6,
   "id": "7f302822",
   "metadata": {},
   "outputs": [],
   "source": [
    "com_list = [0] * 43\n",
    "\n",
    "for i in range(len(lig_idx)):\n",
    "    small_traj = traj.atom_slice(lig[lig_idx[i]:lig_idx[i]+20])\n",
    "    com_list[i] = md.compute_center_of_mass(small_traj)"
   ]
  },
  {
   "cell_type": "code",
   "execution_count": 7,
   "id": "0de53f65",
   "metadata": {},
   "outputs": [],
   "source": [
    "import sklearn\n",
    "from sklearn.cluster import DBSCAN"
   ]
  },
  {
   "cell_type": "code",
   "execution_count": 8,
   "id": "598f3dc1",
   "metadata": {},
   "outputs": [],
   "source": [
    "com_cat = np.concatenate(com_list)"
   ]
  },
  {
   "cell_type": "code",
   "execution_count": 9,
   "id": "fa509f84",
   "metadata": {},
   "outputs": [],
   "source": [
    "cl = DBSCAN(eps=0.15, min_samples=6500).fit(com_cat)"
   ]
  },
  {
   "cell_type": "code",
   "execution_count": 10,
   "id": "5a809433",
   "metadata": {},
   "outputs": [
    {
     "data": {
      "text/plain": [
       "5"
      ]
     },
     "execution_count": 10,
     "metadata": {},
     "output_type": "execute_result"
    }
   ],
   "source": [
    "len(set(cl.labels_))"
   ]
  },
  {
   "cell_type": "code",
   "execution_count": 11,
   "id": "6aa9a25c",
   "metadata": {},
   "outputs": [],
   "source": [
    "def write_com_to_gro(com, file_name):\n",
    "    ''' write center of mass point to gro file to open in VMD, chimera, or similiar'''\n",
    "    with open(file_name, 'w') as f:\n",
    "        f.write('Protein in water\\n')\n",
    "        f.write(' 1\\n')\n",
    "        f.write(f'    1GLU      N    1   {np.round(com[0], 3)}   {np.round(com[1], 3)}   {np.round(com[2], 3)}\\n')\n",
    "        f.write('  11.27360  11.27360  11.27360\\n')"
   ]
  },
  {
   "cell_type": "code",
   "execution_count": 12,
   "id": "bcdc1a7b",
   "metadata": {},
   "outputs": [
    {
     "name": "stdout",
     "output_type": "stream",
     "text": [
      "0 17589\n",
      "1 12520\n",
      "2 14476\n",
      "3 17523\n"
     ]
    }
   ],
   "source": [
    "cluster_list = []\n",
    "avg_list = []\n",
    "\n",
    "for i in set(cl.labels_):\n",
    "    if i == -1:\n",
    "        continue\n",
    "    cluster_list.append(com_cat[cl.labels_ == i])\n",
    "    print(i, cluster_list[i].shape[0])\n",
    "    avg_list.append(cluster_list[i].mean(axis=0))"
   ]
  },
  {
   "cell_type": "code",
   "execution_count": 13,
   "id": "ba69fc11",
   "metadata": {},
   "outputs": [],
   "source": [
    "for i in range(4):\n",
    "    write_com_to_gro(avg_list[i], f'cluster/7ofu_50mm_cluster{i}.gro')"
   ]
  },
  {
   "cell_type": "code",
   "execution_count": 14,
   "id": "578c01c0",
   "metadata": {},
   "outputs": [],
   "source": [
    "crystal = md.load('../../true_7ofu.pdb')"
   ]
  },
  {
   "cell_type": "code",
   "execution_count": 15,
   "id": "db0c22d3",
   "metadata": {},
   "outputs": [],
   "source": [
    "cry_idx = crystal.top.select('resname == he9')\n",
    "lig_rmsds = [0] * 43"
   ]
  },
  {
   "cell_type": "code",
   "execution_count": 16,
   "id": "0cdd6a5f",
   "metadata": {},
   "outputs": [],
   "source": [
    "def manual_rmsd(a,b):\n",
    "    result = np.ndarray((a.shape[0],1), dtype='float32')\n",
    "    N = b.shape[1]\n",
    "    for i in range(a.shape[0]):\n",
    "        result[i] = np.sqrt(np.sum((a[i] - b[0]) ** 2) / N)\n",
    "    return result\n",
    "\n",
    "def ex_rmsd(traj, ref, ref_frame=0, atom_indices_traj=None, atom_indices_ref=None, alignment_indices=None):\n",
    "    'align to protein then take rmsd of ligand'\n",
    "    traj.superpose(ref, frame=ref_frame, atom_indices=alignment_indices, parallel=True)\n",
    "    small_traj = traj.atom_slice(atom_indices_traj)\n",
    "    small_ref = ref.atom_slice(atom_indices_ref)\n",
    "    f = manual_rmsd(small_traj.xyz, small_ref.xyz)\n",
    "    return f"
   ]
  },
  {
   "cell_type": "code",
   "execution_count": 17,
   "id": "e8639403",
   "metadata": {},
   "outputs": [],
   "source": [
    "for i in range(len(lig_idx)):\n",
    "    lig_rmsds[i] = ex_rmsd(traj, crystal, atom_indices_traj=lig[lig_idx[i]:lig_idx[i]+20], atom_indices_ref=cry_idx, alignment_indices=gro.top.select('backbone'))"
   ]
  },
  {
   "cell_type": "code",
   "execution_count": 18,
   "id": "e575ba06",
   "metadata": {},
   "outputs": [],
   "source": [
    "time = np.arange(0, 300.02, 0.01)"
   ]
  },
  {
   "cell_type": "code",
   "execution_count": 19,
   "id": "7ae02c02",
   "metadata": {},
   "outputs": [],
   "source": [
    "under_5_list = [0] * 43\n",
    "for i in range(len(lig_rmsds)):\n",
    "    under_5_list[i] = (lig_rmsds[i] < 0.5).sum()"
   ]
  },
  {
   "cell_type": "code",
   "execution_count": 20,
   "id": "c8e3dc23",
   "metadata": {},
   "outputs": [
    {
     "name": "stdout",
     "output_type": "stream",
     "text": [
      "0 25\n",
      "1 2\n",
      "2 1\n",
      "3 0\n",
      "4 25\n",
      "5 0\n",
      "6 0\n",
      "7 0\n",
      "8 0\n",
      "9 0\n",
      "10 0\n",
      "11 0\n",
      "12 0\n",
      "13 6\n",
      "14 0\n",
      "15 130\n",
      "16 0\n",
      "17 0\n",
      "18 0\n",
      "19 0\n",
      "20 417\n",
      "21 0\n",
      "22 0\n",
      "23 21\n",
      "24 761\n",
      "25 0\n",
      "26 0\n",
      "27 0\n",
      "28 0\n",
      "29 21\n",
      "30 49\n",
      "31 0\n",
      "32 0\n",
      "33 0\n",
      "34 0\n",
      "35 0\n",
      "36 0\n",
      "37 0\n",
      "38 144\n",
      "39 5\n",
      "40 0\n",
      "41 0\n",
      "42 0\n"
     ]
    }
   ],
   "source": [
    "for i in range(len(under_5_list)):\n",
    "    print(i, under_5_list[i])"
   ]
  },
  {
   "cell_type": "code",
   "execution_count": 21,
   "id": "76bcd8d3",
   "metadata": {},
   "outputs": [
    {
     "data": {
      "text/plain": [
       "Text(0, 0.5, 'Ligand RMSD (nm)')"
      ]
     },
     "execution_count": 21,
     "metadata": {},
     "output_type": "execute_result"
    },
    {
     "data": {
      "image/png": "[encoded data removed]",
      "text/plain": [
       "<Figure size 432x288 with 1 Axes>"
      ]
     },
     "metadata": {
      "needs_background": "light"
     },
     "output_type": "display_data"
    }
   ],
   "source": [
    "plt.plot(time, lig_rmsds[24])\n",
    "plt.xlabel('Time (ns)', fontsize=16)\n",
    "plt.ylabel('Ligand RMSD (nm)', fontsize=16)"
   ]
  },
  {
   "cell_type": "code",
   "execution_count": 22,
   "id": "0ac31730",
   "metadata": {},
   "outputs": [],
   "source": [
    "np.save('lowest_lig_rmsd.npy', lig_rmsds[24])"
   ]
  },
  {
   "cell_type": "code",
   "execution_count": 7,
   "id": "cfb36074",
   "metadata": {},
   "outputs": [],
   "source": [
    "# contact analysis"
   ]
  },
  {
   "cell_type": "code",
   "execution_count": 9,
   "id": "69a27696",
   "metadata": {},
   "outputs": [],
   "source": [
    "sites = 4\n",
    "site_list = [md.load(f'cluster/7ofu_50mm_cluster{i}.gro') for i in range(sites)]"
   ]
  },
  {
   "cell_type": "code",
   "execution_count": 10,
   "id": "ce4857e7",
   "metadata": {},
   "outputs": [],
   "source": [
    "def calc_eu_dist(a,b):\n",
    "    '''calculate the euclidean distance between two cartesian coordinate points'''\n",
    "    dist = np.sqrt(np.sum((a - b) ** 2))\n",
    "    return dist"
   ]
  },
  {
   "cell_type": "code",
   "execution_count": 11,
   "id": "c1eccf76",
   "metadata": {},
   "outputs": [],
   "source": [
    "def slice_spots(traj, sites, com_list, site_list, gro, lig, lig_idx, lig_atoms=20):\n",
    "    '''takes trajectoy and retures seperate trajectories where ligands are in spots'''\n",
    "    out_list3 = [0] * sites\n",
    "\n",
    "    for i in range(sites):\n",
    "        counter = 0\n",
    "        for j in range(len(com_list)):\n",
    "            #for k in range(traj.n_frames):\n",
    "            d = [calc_eu_dist(l, site_list[i].xyz[0][0]) for l in com_list[j]]\n",
    "            b = np.array(d)\n",
    "            idx = np.where(b < 0.15)[0]\n",
    "            if counter == 0:\n",
    "                temp = traj[idx]\n",
    "                temp2 = temp.atom_slice(np.concatenate((gro.top.select('protein'), lig[lig_idx[j]:lig_idx[j]+lig_atoms])))\n",
    "                out_list3[i] = temp2\n",
    "                counter = 1\n",
    "            else:\n",
    "                temp = traj[idx]                      \n",
    "                temp2 = temp.atom_slice(np.concatenate((gro.top.select('protein'), lig[lig_idx[j]:lig_idx[j]+lig_atoms])))\n",
    "                out_list3[i] = out_list3[i].join(temp2)\n",
    "                \n",
    "    return out_list3"
   ]
  },
  {
   "cell_type": "code",
   "execution_count": 12,
   "id": "e8a26170",
   "metadata": {},
   "outputs": [],
   "source": [
    "out_list = slice_spots(traj, sites, com_list, site_list, gro, lig, lig_idx, lig_atoms=20)"
   ]
  },
  {
   "cell_type": "code",
   "execution_count": 13,
   "id": "41e2da63",
   "metadata": {},
   "outputs": [],
   "source": [
    "out_list[0].save('sitetraj_cl0_F_s11.xtc')"
   ]
  },
  {
   "cell_type": "code",
   "execution_count": 14,
   "id": "a6735352",
   "metadata": {},
   "outputs": [],
   "source": [
    "out_list[1].save('sitetraj_cl1_I_s8.xtc')"
   ]
  },
  {
   "cell_type": "code",
   "execution_count": 15,
   "id": "5416c6d2",
   "metadata": {},
   "outputs": [],
   "source": [
    "out_list[2].save('sitetraj_cl2_J_s6.xtc')"
   ]
  },
  {
   "cell_type": "code",
   "execution_count": 16,
   "id": "6de5df03",
   "metadata": {},
   "outputs": [],
   "source": [
    "out_list[3].save('sitetraj_cl3_K_s9.xtc')"
   ]
  },
  {
   "cell_type": "code",
   "execution_count": 17,
   "id": "e839a1e3",
   "metadata": {},
   "outputs": [],
   "source": [
    "start = out_list[0][0]"
   ]
  },
  {
   "cell_type": "code",
   "execution_count": 18,
   "id": "f56c4da9",
   "metadata": {},
   "outputs": [],
   "source": [
    "new_lig = start.top.select('resname == he9 and not name H')"
   ]
  },
  {
   "cell_type": "code",
   "execution_count": 19,
   "id": "84d5ddf3",
   "metadata": {},
   "outputs": [],
   "source": [
    "res = np.zeros((315,2))\n",
    "for i in range(315):\n",
    "    res[i,0] = i\n",
    "for i in range(315):\n",
    "    res[i,1] = 315"
   ]
  },
  {
   "cell_type": "code",
   "execution_count": 20,
   "id": "0eca8444",
   "metadata": {},
   "outputs": [],
   "source": [
    "def average_contacts(gro, traj_name, threshold):\n",
    "    feat = coor.featurizer(gro)\n",
    "    feat.add_residue_mindist(residue_pairs=res, threshold=threshold)\n",
    "    min_dis = coor.load(traj_name, features=feat)\n",
    "    mean = np.mean(min_dis.sum(axis=1))\n",
    "    return mean"
   ]
  },
  {
   "cell_type": "code",
   "execution_count": 21,
   "id": "2da6530d",
   "metadata": {},
   "outputs": [
    {
     "data": {
      "text/plain": [
       "4.141807"
      ]
     },
     "execution_count": 21,
     "metadata": {},
     "output_type": "execute_result"
    }
   ],
   "source": [
    "average_contacts(start, 'sitetraj_cl0_F_s11.xtc', 0.35)"
   ]
  },
  {
   "cell_type": "code",
   "execution_count": 22,
   "id": "c029e83f",
   "metadata": {},
   "outputs": [
    {
     "data": {
      "text/plain": [
       "8.904872"
      ]
     },
     "execution_count": 22,
     "metadata": {},
     "output_type": "execute_result"
    }
   ],
   "source": [
    "average_contacts(start, 'sitetraj_cl0_F_s11.xtc', 0.4)"
   ]
  },
  {
   "cell_type": "code",
   "execution_count": 23,
   "id": "93886823",
   "metadata": {},
   "outputs": [
    {
     "data": {
      "text/plain": [
       "3.1964114"
      ]
     },
     "execution_count": 23,
     "metadata": {},
     "output_type": "execute_result"
    }
   ],
   "source": [
    "average_contacts(start, 'sitetraj_cl1_I_s8.xtc', 0.35)"
   ]
  },
  {
   "cell_type": "code",
   "execution_count": 24,
   "id": "5c87742b",
   "metadata": {},
   "outputs": [
    {
     "data": {
      "text/plain": [
       "5.3187013"
      ]
     },
     "execution_count": 24,
     "metadata": {},
     "output_type": "execute_result"
    }
   ],
   "source": [
    "average_contacts(start, 'sitetraj_cl1_I_s8.xtc', 0.4)"
   ]
  },
  {
   "cell_type": "code",
   "execution_count": 25,
   "id": "3d0ee960",
   "metadata": {},
   "outputs": [
    {
     "data": {
      "text/plain": [
       "3.437828"
      ]
     },
     "execution_count": 25,
     "metadata": {},
     "output_type": "execute_result"
    }
   ],
   "source": [
    "average_contacts(start, 'sitetraj_cl2_J_s6.xtc', 0.35)"
   ]
  },
  {
   "cell_type": "code",
   "execution_count": 26,
   "id": "daf97dc6",
   "metadata": {},
   "outputs": [
    {
     "data": {
      "text/plain": [
       "6.8706446"
      ]
     },
     "execution_count": 26,
     "metadata": {},
     "output_type": "execute_result"
    }
   ],
   "source": [
    "average_contacts(start, 'sitetraj_cl2_J_s6.xtc', 0.4)"
   ]
  },
  {
   "cell_type": "code",
   "execution_count": 27,
   "id": "d107f8dd",
   "metadata": {},
   "outputs": [
    {
     "data": {
      "text/plain": [
       "5.637192"
      ]
     },
     "execution_count": 27,
     "metadata": {},
     "output_type": "execute_result"
    }
   ],
   "source": [
    "average_contacts(start, 'sitetraj_cl3_K_s9.xtc', 0.35)"
   ]
  },
  {
   "cell_type": "code",
   "execution_count": 28,
   "id": "6875a256",
   "metadata": {},
   "outputs": [
    {
     "data": {
      "text/plain": [
       "10.412575"
      ]
     },
     "execution_count": 28,
     "metadata": {},
     "output_type": "execute_result"
    }
   ],
   "source": [
    "average_contacts(start, 'sitetraj_cl3_K_s9.xtc', 0.4)"
   ]
  },
  {
   "cell_type": "code",
   "execution_count": null,
   "id": "fe25c300",
   "metadata": {},
   "outputs": [],
   "source": []
  }
 ],
 "metadata": {
  "kernelspec": {
   "display_name": "Python 3 (ipykernel)",
   "language": "python",
   "name": "python3"
  },
  "language_info": {
   "codemirror_mode": {
    "name": "ipython",
    "version": 3
   },
   "file_extension": ".py",
   "mimetype": "text/x-python",
   "name": "python",
   "nbconvert_exporter": "python",
   "pygments_lexer": "ipython3",
   "version": "3.8.8"
  }
 },
 "nbformat": 4,
 "nbformat_minor": 5
}
