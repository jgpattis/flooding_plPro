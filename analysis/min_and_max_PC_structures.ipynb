{
 "cells": [
  {
   "cell_type": "code",
   "execution_count": 1,
   "id": "6bc49405",
   "metadata": {},
   "outputs": [],
   "source": [
    "import mdtraj as md\n",
    "import pyemma.coordinates as coor\n",
    "import numpy as np\n",
    "import matplotlib.pyplot as plt\n",
    "import pyemma.plots as pyemma_plots"
   ]
  },
  {
   "cell_type": "code",
   "execution_count": 2,
   "id": "408fa5ec",
   "metadata": {},
   "outputs": [
    {
     "data": {
      "application/vnd.jupyter.widget-view+json": {
       "model_id": "",
       "version_major": 2,
       "version_minor": 0
      },
      "text/plain": [
       "getting output of H5Reader:   0%|                                                                             …"
      ]
     },
     "metadata": {},
     "output_type": "display_data"
    }
   ],
   "source": [
    "pca_data = coor.load('pca_data_all9_cc_try2.h5')"
   ]
  },
  {
   "cell_type": "code",
   "execution_count": 8,
   "id": "5835668f",
   "metadata": {},
   "outputs": [
    {
     "name": "stdout",
     "output_type": "stream",
     "text": [
      "0 -8.032742 8732\n",
      "1 -9.373163 28946\n",
      "2 -4.5258727 5056\n",
      "3 -9.163276 1637\n",
      "4 -19.670055 16427\n",
      "5 -14.66307 25804\n",
      "6 -7.923611 21692\n",
      "7 -16.949968 27334\n",
      "8 -9.748863 12889\n"
     ]
    }
   ],
   "source": [
    "for i in range(9):\n",
    "    print(i, pca_data[i][:,0].min(), pca_data[i][:,0].argmin())"
   ]
  },
  {
   "cell_type": "code",
   "execution_count": 10,
   "id": "7e8f3ec3",
   "metadata": {},
   "outputs": [
    {
     "name": "stdout",
     "output_type": "stream",
     "text": [
      "0 8.471148 16163\n",
      "1 6.523618 1953\n",
      "2 9.276584 9348\n",
      "3 8.341403 21958\n",
      "4 9.033998 18741\n",
      "5 9.770255 7411\n",
      "6 6.761362 1684\n",
      "7 8.697811 3310\n",
      "8 7.258691 5912\n"
     ]
    }
   ],
   "source": [
    "for i in range(9):\n",
    "    print(i, pca_data[i][:,0].max(), pca_data[i][:,0].argmax())"
   ]
  },
  {
   "cell_type": "code",
   "execution_count": 11,
   "id": "8c9760a0",
   "metadata": {},
   "outputs": [],
   "source": [
    "pdb_list = ['7OFS/10_milli_molar/analysis/frame0_nw.gro', '7OFS/50_milli_molar/analysis/frame0_nw.gro', '7OFS/100_milli_molar/analysis/frame0_nw.gro',\n",
    "           '7oft/10_mm/analysis/frame0_nw.gro', '7oft/50_mm/analysis/frame0_nw.gro', '7oft/100_mm/analysis/frame0_nw.gro', \n",
    "           '7ofu/10_mm/analysis/frame0_nw.gro', '7ofu/50_mm/analysis/frame0_nw.gro', '7ofu/100_mm/analysis/frame0_nw.gro']"
   ]
  },
  {
   "cell_type": "code",
   "execution_count": 12,
   "id": "341b5988",
   "metadata": {},
   "outputs": [],
   "source": [
    "traj_name_list = ['7OFS/10_milli_molar/analysis/plpro_yrl_10_whole_wrap.trr', '7OFS/50_milli_molar/analysis/plpro_yrl_50_whole_wrap.trr', '7OFS/100_milli_molar/analysis/plpro_yrl_100_whole_wrap.trr', \n",
    "                 '7oft/10_mm/analysis/7oft_10mm_whole_wrap.trr', '7oft/50_mm/analysis/7oft_50mm_whole_wrap.trr', '7oft/100_mm/analysis/7oft_100mm_whole_wrap.trr',\n",
    "                 '7ofu/10_mm/analysis/7ofu_10mm_whole_wrap.trr', '7ofu/50_mm/analysis/7ofu_50mm_whole_wrap.trr', '7ofu/100_mm/analysis/7ofu_100mm_whole_wrap.trr']"
   ]
  },
  {
   "cell_type": "code",
   "execution_count": 14,
   "id": "7cdb8e79",
   "metadata": {},
   "outputs": [],
   "source": [
    "new_pdb = md.load_frame(traj_name_list[4], index=16427, top=pdb_list[4])\n",
    "new_pdb.save_pdb(f'pca_cc2_PC1_min.pdb')"
   ]
  },
  {
   "cell_type": "code",
   "execution_count": 15,
   "id": "32217ac0",
   "metadata": {},
   "outputs": [],
   "source": [
    "new_pdb = md.load_frame(traj_name_list[5], index=7411, top=pdb_list[5])\n",
    "new_pdb.save_pdb(f'pca_cc2_PC1_max.pdb')"
   ]
  },
  {
   "cell_type": "code",
   "execution_count": 16,
   "id": "151fce42",
   "metadata": {},
   "outputs": [
    {
     "name": "stdout",
     "output_type": "stream",
     "text": [
      "0 -5.0119777 26876\n",
      "1 -3.075065 3086\n",
      "2 -6.0135236 9356\n",
      "3 -7.610556 27272\n",
      "4 -11.152932 26377\n",
      "5 -10.669013 19304\n",
      "6 -2.2298849 15416\n",
      "7 -9.898938 28245\n",
      "8 -8.292603 21756\n"
     ]
    }
   ],
   "source": [
    "for i in range(9):\n",
    "    print(i, pca_data[i][:,1].min(), pca_data[i][:,1].argmin())"
   ]
  },
  {
   "cell_type": "code",
   "execution_count": 17,
   "id": "853c2a88",
   "metadata": {},
   "outputs": [
    {
     "name": "stdout",
     "output_type": "stream",
     "text": [
      "0 6.9224772 88\n",
      "1 7.7519274 27844\n",
      "2 6.969999 11\n",
      "3 8.829828 1104\n",
      "4 8.069902 465\n",
      "5 5.6084104 15031\n",
      "6 8.036275 29081\n",
      "7 6.521661 613\n",
      "8 5.2707076 16675\n"
     ]
    }
   ],
   "source": [
    "for i in range(9):\n",
    "    print(i, pca_data[i][:,1].max(), pca_data[i][:,1].argmax())"
   ]
  },
  {
   "cell_type": "code",
   "execution_count": 18,
   "id": "0133bf3e",
   "metadata": {},
   "outputs": [],
   "source": [
    "new_pdb = md.load_frame(traj_name_list[4], index=26377, top=pdb_list[4])\n",
    "new_pdb.save_pdb(f'pca_cc2_PC2_min.pdb')"
   ]
  },
  {
   "cell_type": "code",
   "execution_count": 19,
   "id": "c4cd92e8",
   "metadata": {},
   "outputs": [],
   "source": [
    "new_pdb = md.load_frame(traj_name_list[3], index=1104, top=pdb_list[3])\n",
    "new_pdb.save_pdb(f'pca_cc2_PC2_max.pdb')"
   ]
  },
  {
   "cell_type": "code",
   "execution_count": 20,
   "id": "86ff8c97",
   "metadata": {},
   "outputs": [
    {
     "name": "stdout",
     "output_type": "stream",
     "text": [
      "0 -5.561091 8012\n",
      "1 -4.6880245 2474\n",
      "2 -5.0878906 7905\n",
      "3 -5.7154956 16270\n",
      "4 -5.6131654 10534\n",
      "5 -5.453582 19035\n",
      "6 -5.0221844 2514\n",
      "7 -5.7743087 22234\n",
      "8 -4.898691 9133\n"
     ]
    }
   ],
   "source": [
    "for i in range(9):\n",
    "    print(i, pca_data[i][:,2].min(), pca_data[i][:,2].argmin())"
   ]
  },
  {
   "cell_type": "code",
   "execution_count": 21,
   "id": "ba8e06c4",
   "metadata": {},
   "outputs": [
    {
     "name": "stdout",
     "output_type": "stream",
     "text": [
      "0 5.5098476 29975\n",
      "1 4.9391546 17809\n",
      "2 4.7795067 14005\n",
      "3 5.475777 27864\n",
      "4 4.2219243 27300\n",
      "5 5.096841 29116\n",
      "6 6.5828633 27434\n",
      "7 3.7372885 29578\n",
      "8 6.3754745 18949\n"
     ]
    }
   ],
   "source": [
    "for i in range(9):\n",
    "    print(i, pca_data[i][:,2].max(), pca_data[i][:,2].argmax())"
   ]
  },
  {
   "cell_type": "code",
   "execution_count": 24,
   "id": "b412bf07",
   "metadata": {},
   "outputs": [],
   "source": [
    "new_pdb = md.load_frame(traj_name_list[7], index=22234, top=pdb_list[7])\n",
    "new_pdb.save_pdb(f'pca_cc2_PC3_min.pdb')"
   ]
  },
  {
   "cell_type": "code",
   "execution_count": 25,
   "id": "a87c6f6c",
   "metadata": {},
   "outputs": [],
   "source": [
    "new_pdb = md.load_frame(traj_name_list[6], index=27434, top=pdb_list[6])\n",
    "new_pdb.save_pdb(f'pca_cc2_PC3_max.pdb')"
   ]
  },
  {
   "cell_type": "code",
   "execution_count": null,
   "id": "f2f47cae",
   "metadata": {},
   "outputs": [],
   "source": []
  }
 ],
 "metadata": {
  "kernelspec": {
   "display_name": "Python 3 (ipykernel)",
   "language": "python",
   "name": "python3"
  },
  "language_info": {
   "codemirror_mode": {
    "name": "ipython",
    "version": 3
   },
   "file_extension": ".py",
   "mimetype": "text/x-python",
   "name": "python",
   "nbconvert_exporter": "python",
   "pygments_lexer": "ipython3",
   "version": "3.8.8"
  }
 },
 "nbformat": 4,
 "nbformat_minor": 5
}
